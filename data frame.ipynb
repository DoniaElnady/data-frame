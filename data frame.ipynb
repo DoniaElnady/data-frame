{
 "cells": [
  {
   "cell_type": "code",
   "execution_count": null,
   "metadata": {},
   "outputs": [],
   "source": [
    "import pandas as pd\n"
   ]
  },
  {
   "cell_type": "code",
   "execution_count": null,
   "metadata": {},
   "outputs": [],
   "source": [
    "data= {'student':['donia, ahmed , habiba , maya , mohamed , yara', 'rasha'],\n",
    "       'grade':[100 , 95 , 89 , 76 , 92 , 96 , 50],\n",
    "       'pass/fail':[ 'pass' , 'pass', 'fail' , 'fail', 'pass', 'fail' ]\n",
    "       } "
   ]
  },
  {
   "cell_type": "code",
   "execution_count": null,
   "metadata": {},
   "outputs": [],
   "source": [
    "df = pd.DataFrame(data)"
   ]
  },
  {
   "cell_type": "code",
   "execution_count": null,
   "metadata": {},
   "outputs": [],
   "source": [
    "row = df.loc[df['student']=='donia']\n",
    "print (row)"
   ]
  },
  {
   "cell_type": "code",
   "execution_count": null,
   "metadata": {},
   "outputs": [],
   "source": [
    "pass_fail = df [df['pass/fail']=='pass']\n",
    "print (pass_fail)"
   ]
  }
 ],
 "metadata": {
  "language_info": {
   "name": "python"
  }
 },
 "nbformat": 4,
 "nbformat_minor": 2
}
